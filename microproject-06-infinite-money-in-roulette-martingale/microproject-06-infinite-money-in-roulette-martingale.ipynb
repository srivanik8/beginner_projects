{
 "cells": [
  {
   "attachments": {},
   "cell_type": "markdown",
   "execution_count": 0,
   "metadata": {},
   "outputs": [],
   "source": [
    "<h1 style=\"text-align: center\">\n",
    "<div style=\"color: #DD3403; font-size: 60%\">Data Science DISCOVERY MicroProject</div>\n",
    "<span style=\"\">MicroProject: Infinite Money in Roulette (Martingale Betting Strategy)</span>\n",
    "<div style=\"font-size: 60%;\"><a href=\"https://discovery.cs.illinois.edu/microproject/infinite-money-in-roulette-martingale/\">https://discovery.cs.illinois.edu/microproject/infinite-money-in-roulette-martingale/</a></div>\n",
    "</h1>\n",
    "\n",
    "<hr style=\"color: #DD3403;\">"
   ]
  },
  {
   "attachments": {},
   "cell_type": "markdown",
   "execution_count": 0,
   "metadata": {},
   "outputs": [],
   "source": [
    "## Data Simulation: A Martingale Betting System\n",
    "\n",
    "A \"martingale\" is a betting strategy where, after every loss, your next met is made so that a win will always recover all of previous losses.  In the game of Roulette, a wheel with 38 slots is spun and a ball is placed into the spinning wheel.  As the spinning wheel slows down, the ball will land in one of the 38 slots with equal probability.  Each of the slots are labeled with a number **and** a color.\n",
    "\n",
    "When you place a bet on the color \"red\" or \"black\", **the bet is \"1:1\" bet**.  A \"1:1\" bet means you are awarded with $1 for every $1 you bet if you win (plus you retain your original bet) or you lose your entire bet if you lose.\n",
    "\n",
    "Applying the martingale betting strategy to the game of Roulette would involve the following betting strategy:\n",
    "\n",
    "- Initially, you bet a small amount (ex: $1.00) that the ball will land on \"red\".\n",
    "- A game of roulette is played.  Based on the result of the game:\n",
    "  - **If the ball lands on red**, you won your bet!  You made $1.00 and can repeat again.\n",
    "  - **Each time you lose**, you double your bet!  You will initially lose the $1.00, but doubling your bet to $2.00 will make up for that initial loss when you win.  (If you continue to lose, you'll bet $4.00 to make up for the $1 + $2 lost bets, then $8.00 to make up for the $1 + $2 + $4 lost bets, then $16, then $32, and so on.)\n",
    "\n",
    "The following table outlines this strategy and your total eventual winnings:\n",
    "\n",
    "| Scenario | Previous Losses | Winning Bet | Total Winnings |\n",
    "| -------- | --------------: | ------: | -------------: |\n",
    "| You bet red, and win | -- | $1.00 | +$1.00 |\n",
    "| You win after losing once | -$1.00 | $2.00 | +$1.00 |\n",
    "| You win after losing twice | -$3.00 | $4.00 | +$1.00 |\n",
    "| You win after losing three times | -$7.00 | $8.00 | +$1.00 |\n",
    "| You win after losing four times | -$15.00 | $16.00 | +$1.00 |\n",
    "| You win after losing five times | -$31.00 | $32.00 | +$1.00 |\n",
    "| You win after losing six times | -$63.00 | $64.00 | +$1.00 |\n",
    "| You win after losing seven times | -$127.00 | $128.00 | +$1.00 |\n",
    "| ... | ... | ... | +$1.00 |\n",
    "\n",
    "In the table, you will see that every win will **ALWAYS** result in a total winnings of $1.00 -- even if you just lost 7 or more times in a row!  Proponents of the martingale betting system will tell you that they have mathematically proven way that you will make an **infinite increasing amount of money** so long as you play the game long enough!\n",
    "\n",
    "In this MicroProject, we will explore this claim and use simulation to play Roulette using this martingale betting system.  Let's nerd out! :)\n",
    "\n",
    "\n",
    "\n",
    "### Background Knowledge\n",
    "\n",
    "To finish this MicroProject, we assume you already know:\n",
    "\n",
    "- All topics covered in *DISCOVERY Module 1: Basics of Data Science with Python* ([review the module here](https://discovery.cs.illinois.edu/learn/))\n",
    "- Creating a Simple Simulation in Python ([reviewing simulations in Python](https://discovery.cs.illinois.edu/learn/Simulation-and-Distributions/Simple-Simulations-in-Python/))\n",
    "- Adding Conditionals to Simulations ([reviewing conditionals in Python](https://discovery.cs.illinois.edu/learn/Simulation-and-Distributions/Conditionals-in-Python/))\n",
    "\n",
    "Let's get started! :)\n",
    "\n"
   ]
  },
  {
   "attachments": {},
   "cell_type": "markdown",
   "execution_count": 0,
   "metadata": {},
   "outputs": [],
   "source": [
    "<hr style=\"color: #DD3403;\">"
   ]
  },
  {
   "attachments": {},
   "cell_type": "markdown",
   "execution_count": 0,
   "metadata": {},
   "outputs": [],
   "source": [
    "## Part 1: Simulation of a Martingale Betting Strategy in Roulette\n",
    "\n",
    "Whenever we work with data from a simulation, the first thing to do is to build the simulation!  To test the martingale betting strategy, let's simulate playing Roulette 1,000,000 times and we will start playing with $100,000 (that's a lot of money)!\n",
    "\n",
    "### Part 1.1: Simulating the `number` in Roulette Game\n",
    "\n",
    "Unlike a simple simulation we've done before, we need a few Python variables that track our progress between individual games.  There are two variables that we need to define before we start our simulation:\n",
    "- `money = 100000` ($100,000), your starting money\n",
    "- `currentBet = 1` ($1), your current bet size\n",
    "\n",
    "Each observation in our simulation is one game of Roulette where you bet a `currentBet` amount of money on \"red\".  The only event in a Roulette game is choosing where among the 38 possible spots that the ball lands: `00`, `0`, `1`, `2`, `3`, ..., `35`, or `36`.\n",
    "- Challenge #1: How do you want to represent `00`?  *(There's no wrong answer here, but you must make sure to represent `00` in some way.)*\n",
    "- Store the value of where the Roulette ball lands in the Python variable `number`.\n",
    "\n",
    "Create a DataFrame `df` that contains the data from a simulation of playing 1,000,000 games of Roulette, making sure to store the `money`, `currentBet`, and `number` variables for each game of Roulette.  *(At this stage, you are not updating the `money` or `currentBet` -- we want to make sure to get the game working first!)*"
   ]
  },
  {
   "cell_type": "code",
   "execution_count": 0,
   "metadata": {},
   "outputs": [],
   "source": [
    "..."
   ]
  },
  {
   "cell_type": "code",
   "execution_count": 0,
   "metadata": {},
   "outputs": [],
   "source": [
    "# View your DataFrame\n",
    "df"
   ]
  },
  {
   "cell_type": "code",
   "execution_count": 0,
   "metadata": {},
   "outputs": [],
   "source": [
    "### TEST CASE for Part 1.1: Simulating the `number` in Roulette Game\n",
    "tada = \"\\N{PARTY POPPER}\"\n",
    "assert( \"df\" in vars() ), \"Your simulation must be stored in df.\"\n",
    "assert( \"money\" in df ), \"Your DataFrame must have the column/variable \\\"money\\\".\"\n",
    "assert( \"currentBet\" in df ), \"Your DataFrame must have the column/variable \\\"currentBet\\\".\"\n",
    "assert( \"number\" in df ), \"Your DataFrame must have the column/variable \\\"number\\\".\"\n",
    "uniqueNumbers = df.number.unique()\n",
    "assert(len(uniqueNumbers) == 38), \"You must have 38 unique values in `number` for the 38 different spots the ball can land. Make sure you are representing 0, 00, and all numbers 1-36\"\n",
    "for i in range(37):\n",
    "  assert(i in uniqueNumbers), f\"Your simulation never had the `number` {i} in any observation.  Make sure that `number` is possible.\"\n",
    "print(f\"{tada} All tests passed! {tada}\")"
   ]
  },
  {
   "cell_type": "markdown",
   "execution_count": 0,
   "metadata": {},
   "outputs": [],
   "source": [
    "### Part 1.2: Adding Each Number's `color` to the Simulation\n",
    "\n",
    "In Roulette, every spot has both a **number** and a **color**.  On a standard Roulette wheel in the United States, the following table shows the colors for each number, based on the order they appear on the wheel:\n",
    "\n",
    "| Color | Numbers |\n",
    "| ----- | ------- |\n",
    "| red   | 32, 19, 21, 25, 34, 27, 36, 30, 23, 5, 16, 1, 14, 9, 18, 7, 12, and 3 |\n",
    "| black | 15, 4, 2, 17, 6, 13, 11, 8, 10, 24, 33, 20, 31, 22, 29, 28, 35, and 26 |\n",
    "| green | 0, 00 |\n",
    "\n",
    "In Python, we can check if a value is in a list of numbers with the `in` keyword.  After you have your value for `number`, you can use the following code to set a value for `color`:\n",
    "\n",
    "---\n",
    "```py\n",
    "if number in [32, 19, 21, 25, 34, 27, 36, 30, 23, 5, 16, 1, 14, 9, 18, 7, 12, 3]:\n",
    "  color = \"red\"\n",
    "elif number in [15, 4, 2, 17, 6, 13, 11, 8, 10, 24, 33, 20, 31, 22, 29, 28, 35, 26]:\n",
    "  color = \"black\"\n",
    "else:\n",
    "  color = \"green\"\n",
    "```\n",
    "---\n",
    "\n",
    "Copy your simulation from the previous section into the cell below, and then extend it with the code above to include `color` to your simulation and DataFrame:"
   ]
  },
  {
   "cell_type": "code",
   "execution_count": 0,
   "metadata": {},
   "outputs": [],
   "source": [
    "..."
   ]
  },
  {
   "cell_type": "code",
   "execution_count": 0,
   "metadata": {},
   "outputs": [],
   "source": [
    "# View your DataFrame:\n",
    "df"
   ]
  },
  {
   "cell_type": "code",
   "execution_count": 0,
   "metadata": {},
   "outputs": [],
   "source": [
    "### TEST CASE for Part 1.2: Adding Each Number's `color` to the Simulation\n",
    "tada = \"\\N{PARTY POPPER}\"\n",
    "assert( \"df\" in vars() ), \"Your simulation must be stored in df.\"\n",
    "assert( \"color\" in df ), \"Your DataFrame must have the column/variable \\\"color\\\".\"\n",
    "assert( len(df.color.unique()) == 3 ), \"You must have three unique colors.\"\n",
    "for color in [\"red\", \"black\", \"green\"]: assert(color in df.color.unique()), f\"The color {color} must be a value for `color`.\"\n",
    "assert( abs(len(df[df.color == \"black\"] ) - len( df[df.color == \"red\"])) < len(df[df.color == \"green\"]) ), \"Make sure your color mapping is correct (the distribution of red vs. black vs. green you have does not match Roulette).\"\n",
    "print(f\"{tada} All tests passed! {tada}\")\n"
   ]
  },
  {
   "cell_type": "markdown",
   "execution_count": 0,
   "metadata": {},
   "outputs": [],
   "source": [
    "### Part 1.3: Adding `result` and `nextBet` to your Simulation\n",
    "\n",
    "With the color of the number of each Roulette game stored in `color`, we can use the `color` variable to determine the result of the game of Roulette.  There are two possible results of a game of Roulette for the purposes of our simulation:\n",
    "\n",
    "**If the `color` is `\"red\"`**, you've won! 🎉\n",
    "- You have won the amount of money you bet, as stored in `currentBet`!\n",
    "- To represent your winnings, in games where the `color` is `\"red\"`, set the value of `result` to be equal to your `currentBet`.\n",
    "- Additionally, set the value of `nextBet` back to be $1.\n",
    "\n",
    "**If the `color` was NOT `\"red\"`**, you lost.\n",
    "- You lost your bet. :(\n",
    "- To represent you lost, in games where the `color` is NOT `\"red\"`, set the value of `result` to be equal to the negative value of your `currentBet` (ex: `currentBet * -1`).\n",
    "- Additionally, set the value of `nextBet` to be **double** the value of your `currentBet` (so your next bet can make up for all your previous losses). \n",
    "\n",
    "Copy your simulation from the previous section into the cell below, and then extend it to add both `result` and `nextBet` to your simulation and DataFrame:"
   ]
  },
  {
   "cell_type": "code",
   "execution_count": 0,
   "metadata": {},
   "outputs": [],
   "source": [
    "..."
   ]
  },
  {
   "cell_type": "code",
   "execution_count": 0,
   "metadata": {},
   "outputs": [],
   "source": [
    "# View your DataFrame:\n",
    "df"
   ]
  },
  {
   "cell_type": "code",
   "execution_count": 0,
   "metadata": {},
   "outputs": [],
   "source": [
    "### TEST CASE for Part 1.3: Adding `result` and `nextBet` to your Simulation\n",
    "tada = \"\\N{PARTY POPPER}\"\n",
    "assert( \"df\" in vars() ), \"Your simulation must be stored in df.\"\n",
    "assert( \"nextBet\" in df ), \"Your DataFrame must have the column/variable \\\"nextBet\\\".\"\n",
    "assert( \"result\" in df ), \"Your DataFrame must have the column/variable \\\"result\\\".\"\n",
    "\n",
    "uniqueBets = list(df.nextBet.unique())\n",
    "maxBet = df.nextBet.unique().max()\n",
    "curBet = 1\n",
    "for i in range(len(uniqueBets)):\n",
    "    val = 2 ** i\n",
    "    if val in uniqueBets:\n",
    "        uniqueBets.remove(2 ** i)\n",
    "assert( len(uniqueBets) == 0 ), f\"Your `nextBet` contains values that are not valid bets: {uniqueBets}.\"\n",
    "\n",
    "spread = (df.currentBet - df.result.abs())\n",
    "assert(spread.sum() == 0), \"The absolute value of the `result` must be the same value as your `currentBet` -- you cannot win/lose more than your current bet.\"\n",
    "assert(spread.std() == 0), \"The absolute value of the `result` must be the same value as your `currentBet` -- you cannot win/lose more than your current bet.\"\n",
    "print(f\"{tada} All tests passed! {tada}\")"
   ]
  },
  {
   "cell_type": "markdown",
   "execution_count": 0,
   "metadata": {},
   "outputs": [],
   "source": [
    "### Part 1.4: Complete your Simulation\n",
    "\n",
    "The last step to complete your simulation is to update your money and bet size for the next day.\n",
    "\n",
    "In your code **AFTER you have recorded your simulation data for a game** (AKA after making your dictionary but before appending your data), we need to update our global variables:\n",
    "1. `money`: The value stored in `money` must be updated by adding the `result` of the Roulette game to the current value of `money`.  Since `result` is negative when we lose money, adding a negative value will make our `money` smaller (and when our `result` is positive, our `money` will grow).\n",
    "2. `currentBet`: The value stored in `currentBet` must be updated to be the value stored in `nextBet`.\n",
    "\n",
    "These two tasks will complete the game and track the amount of money we've made --  copy your simulation from the previous section into the cell below and complete your simulation by finishing the final two steps outlined above! :)"
   ]
  },
  {
   "cell_type": "code",
   "execution_count": 0,
   "metadata": {},
   "outputs": [],
   "source": [
    "..."
   ]
  },
  {
   "cell_type": "code",
   "execution_count": 0,
   "metadata": {},
   "outputs": [],
   "source": [
    "# View your DataFrame:\n",
    "df"
   ]
  },
  {
   "cell_type": "code",
   "execution_count": 0,
   "metadata": {},
   "outputs": [],
   "source": [
    "### TEST CASE for Part 1.4: Complete your Simulation\n",
    "tada = \"\\N{PARTY POPPER}\"\n",
    "\n",
    "assert( \"df\" in vars() ), \"Your simulation must be stored in df.\"\n",
    "for col in [\"money\", \"currentBet\", \"result\", \"color\", \"number\", \"nextBet\"]: assert(col in df), f\"Your DataFrame must have the column/variable `{col}`.\"\n",
    "assert( df.money.values[0] == 100000 ), \"Your starting money must be $100,000.\"\n",
    "assert( df.currentBet.values[0] == 1 ), \"Your starting bet must be $1.\"\n",
    "assert( len(df) == 1000000 ), \"Your simulation must be of exactly 1,000,000 games.\"\n",
    "\n",
    "uniqueBets = list(df.currentBet.unique())\n",
    "maxBet = df.currentBet.unique().max()\n",
    "curBet = 1\n",
    "for i in range(len(uniqueBets)):\n",
    "    val = 2 ** i\n",
    "    if val in uniqueBets:\n",
    "        uniqueBets.remove(2 ** i)\n",
    "assert( len(uniqueBets) == 0 ), f\"Your `currentBet` contains values that are not valid bets: {uniqueBets}.\"\n",
    "\n",
    "redCount = len(df[df.color == \"red\"])\n",
    "assert(abs(df.money.max() - redCount - 100000) < 10), \"You must only make $1 every time `red` occurs, even in a streak.\"\n",
    "print(f\"{tada} All tests passed! {tada}\")\n",
    "\n",
    "if len(df[df.money < 0]) == 0: print(\"\\n⚠️ Your simulation was very lucky and you never lost money. ⚠️ \\n- To make the next section easier to understand, we STRONGLY recommend you re-run your simulation (and this test case) until this warning goes away.\\n- If you repeatably get this warning, there is something wrong with your simulation (the chance of this warning is less than ~5%).\")"
   ]
  },
  {
   "cell_type": "markdown",
   "execution_count": 0,
   "metadata": {},
   "outputs": [],
   "source": [
    "<hr style=\"color: #DD3403;\">"
   ]
  },
  {
   "attachments": {},
   "cell_type": "markdown",
   "execution_count": 0,
   "metadata": {},
   "outputs": [],
   "source": [
    "## Part 2: Analysis of Infinite Money"
   ]
  },
  {
   "attachments": {},
   "cell_type": "markdown",
   "execution_count": 0,
   "metadata": {},
   "outputs": [],
   "source": [
    "The following code creates a line plot using `df.plot.line` and uses `money` as the `y`-axis value to create a plot of our current money:"
   ]
  },
  {
   "cell_type": "code",
   "execution_count": 0,
   "metadata": {},
   "outputs": [],
   "source": [
    "df.plot.line(y=\"money\", xlabel=\"Plays of Roulette\", ylabel=\"Current Money\", title=\"Infinite Money in Roulette?\")\n",
    "\n",
    "# Add a red line at y=0 ($0) and a green line at your starting money (y=$100,000)\n",
    "import matplotlib.pyplot as plt \n",
    "plt.axhline(y=100000, color=\"green\", linestyle=\"dashed\", label=\"Starting Cash\") \n",
    "plt.axhline(y=0, color=\"red\", linestyle=\"dotted\", label=\"$0\") \n",
    "plt.legend()"
   ]
  },
  {
   "cell_type": "markdown",
   "execution_count": 0,
   "metadata": {},
   "outputs": [],
   "source": [
    "### Part 2.1: Negative Money?\n",
    "\n",
    "A casino requires you to have money to place a bet -- if your money ever went below $0, you couldn't make the bet.  From your 1,000,000 games, create a DataFrame of all games with a negative starting balance -- store that as `df_negativeBalance`:"
   ]
  },
  {
   "cell_type": "code",
   "execution_count": 0,
   "metadata": {},
   "outputs": [],
   "source": [
    "# Find all rows with a negative starting balance:\n",
    "df_negativeBalance = ...\n",
    "df_negativeBalance"
   ]
  },
  {
   "attachments": {},
   "cell_type": "markdown",
   "execution_count": 0,
   "metadata": {},
   "outputs": [],
   "source": [
    "### Part 2.2: Required Bankroll\n",
    "\n",
    "A \"bankroll\" is the amount of money you have available to play at a casino.\n",
    "\n",
    "The bankroll you would be required to have at the casino (on top of the original $100,000) would be the **absolute value** of the greatest amount of debt you were in during the simulation (which is the smallest value in `money`).\n",
    "\n",
    "Store the \"required bankroll\" that you need in the variable `bankroll_required`:\n",
    "\n",
    "(Note: Do not factor in your original $100,000 to the \"required bankroll\".)"
   ]
  },
  {
   "cell_type": "code",
   "execution_count": 0,
   "metadata": {},
   "outputs": [],
   "source": [
    "# Find the additional money you would have needed to have to bankrolled for 1,000,000 games of Roulette:\n",
    "bankroll_required = ...\n",
    "bankroll_required"
   ]
  },
  {
   "cell_type": "code",
   "execution_count": 0,
   "metadata": {},
   "outputs": [],
   "source": [
    "### TEST CASE for Part 2: Analysis of Infinite Money\n",
    "tada = \"\\N{PARTY POPPER}\"\n",
    "\n",
    "assert( \"df_negativeBalance\" in vars() )\n",
    "assert( len(df_negativeBalance) == len(df) - len(df[df.money >= 0]) ), \"Your df_negativeBalance does not contain all of the negative balances.\"\n",
    "\n",
    "assert( \"bankroll_required\" in vars() )\n",
    "assert( bankroll_required >= 0 or (bankroll_required < 0 and df.money.min() > 0) ), \"`bankroll_required` must be positive.\"\n",
    "assert( bankroll_required == max(0, -df.money.min()) or bankroll_required == -df.money.min() ), \"Your `bankroll_required` is incorrect.\"\n",
    "\n",
    "def formatMoney(value):\n",
    "  value = round(value, 2)\n",
    "  return \"${:,}\".format(value)\n",
    "\n",
    "import locale\n",
    "locale.setlocale( locale.LC_ALL, '' )\n",
    "\n",
    "tada = \"\\N{PARTY POPPER}\"\n",
    "print(f\"{tada} All tests passed! {tada}\") \n",
    "print()\n",
    "print(f\"On top of your initial $100,000, you would have needed an ADDITIONAL {formatMoney(bankroll_required)} to be able to use this strategy.\")\n",
    "if bankroll_required > 1000000:\n",
    "  print(f\"...that's a lot of money! (!!)\")\n",
    "if bankroll_required > 0:\n",
    "  print(f\"...in addition, every additional game you play has a chance to double the needed bankroll (to {formatMoney(bankroll_required * 2)}, then {formatMoney(bankroll_required * 4)}, etc).\")"
   ]
  },
  {
   "attachments": {},
   "cell_type": "markdown",
   "execution_count": 0,
   "metadata": {},
   "outputs": [],
   "source": [
    "<hr style=\"color: #DD3403;\">"
   ]
  },
  {
   "cell_type": "markdown",
   "execution_count": 0,
   "metadata": {},
   "outputs": [],
   "source": [
    "## Part 3: Table Limits\n",
    "\n",
    "If you are a multi-millionaire, the bankroll you need may not be an issue and -- after 1,000,000 games -- you have still won about ~$470,000 *(you're expected to win about 18/38 times, each win winning $1)*.  No casino could let you win like this!!\n",
    "\n",
    "One feature of all games of Roulette is that there will always be a \"table limit\".  A \"table limit\" is the maximum bet you can make on any one spin of Roulette.  In our simulation, our table limit is $10,000.\n",
    "\n",
    "\n",
    "### Part 3.1: Updated Simulation with Table Limits\n",
    "\n",
    "Return to Part 1.4 and copy your simulation and extend it to include table limits by doing the following:\n",
    "- When setting the `currentBet` near the end of your for-loop, check if the value of `nextBet` is greater than $10,000.\n",
    "- If `nextBet` is larger than $10,000, set `currentBet` equal to $10,000 instead of `nextBet`.\n",
    "- Otherwise, set `currentBet` equal to `nextBet` as normal.\n",
    "\n",
    "Create your simulation with table limits below:"
   ]
  },
  {
   "cell_type": "code",
   "execution_count": 0,
   "metadata": {},
   "outputs": [],
   "source": [
    "..."
   ]
  },
  {
   "cell_type": "code",
   "execution_count": 0,
   "metadata": {},
   "outputs": [],
   "source": [
    "# View your DataFrame:\n",
    "df"
   ]
  },
  {
   "cell_type": "code",
   "execution_count": 0,
   "metadata": {},
   "outputs": [],
   "source": [
    "### TEST CASE for Part 3.1: Updated Simulation with Table Limits\n",
    "tada = \"\\N{PARTY POPPER}\"\n",
    "\n",
    "assert( \"df\" in vars() ), \"Your simulation must be stored in df.\"\n",
    "\n",
    "assert( \"money\" in df ), \"Your DataFrame must have the column/variable \\\"money\\\".\"\n",
    "assert( \"currentBet\" in df ), \"Your DataFrame must have the column/variable \\\"currentBet\\\".\"\n",
    "assert( \"result\" in df ), \"Your DataFrame must have the column/variable \\\"result\\\".\"\n",
    "assert( \"color\" in df ), \"Your DataFrame must have the column/variable \\\"color\\\".\"\n",
    "assert( \"number\" in df ), \"Your DataFrame must have the column/variable \\\"number\\\".\"\n",
    "\n",
    "assert( df.money.values[0] == 100000 ), \"Your starting money must be $100,000.\"\n",
    "assert( df.currentBet.values[0] == 1 ), \"Your starting bet must be $1.\"\n",
    "assert( len(df) == 1000000 ), \"Your simulation must be of exactly 1,000,000 games.\"\n",
    "\n",
    "uniqueBets = list(df.currentBet.unique())\n",
    "maxBet = df.currentBet.unique().max()\n",
    "curBet = 1\n",
    "for i in range(len(uniqueBets)):\n",
    "    val = 2 ** i\n",
    "    if val in uniqueBets and val < 10000:\n",
    "        uniqueBets.remove(2 ** i)\n",
    "\n",
    "uniqueBets.remove(10000)\n",
    "assert( len(uniqueBets) == 0 ), f\"Your `bets` contains values that are not valid bets: {uniqueBets}.\"\n",
    "\n",
    "tada = \"\\N{PARTY POPPER}\"\n",
    "print(f\"{tada} All tests passed! {tada}\")\n"
   ]
  },
  {
   "cell_type": "markdown",
   "execution_count": 0,
   "metadata": {},
   "outputs": [],
   "source": [
    "### Part 3.2: Table Limits Visualization\n",
    "\n",
    "Let's look at a data visualization of the simulation when table limits are put in place:"
   ]
  },
  {
   "cell_type": "code",
   "execution_count": 0,
   "metadata": {},
   "outputs": [],
   "source": [
    "df.plot.line(y=\"money\", xlabel=\"Plays of Roulette\", ylabel=\"Current Money\", title=\"Infinite Money in Roulette? (w/ Table Limits)\")\n",
    "\n",
    "# Adds a red line at y=0 ($0) and a green line at your starting money (y=$100,000)\n",
    "import matplotlib.pyplot as plt \n",
    "plt.axhline(y=100000, color=\"green\", linestyle=\"dashed\", label=\"Starting Cash\")\n",
    "plt.axhline(y=0, color=\"red\", linestyle=\"dotted\", label=\"$0\")\n",
    "plt.legend()"
   ]
  },
  {
   "cell_type": "markdown",
   "execution_count": 0,
   "metadata": {},
   "outputs": [],
   "source": [
    "### Part 3.3: Finding the Total Money Lost\n",
    "\n",
    "Calculate the **total money lost** (as a positive amount of money lost) after playing all 1,000,000 simulated games when table limits are used.  Store your total money lost in the variable `totalLoss`.\n",
    "\n",
    "To calculate this, remember that your simulation maintains the Python variable `money` that stores the current amount of money you have.  After playing the game with table limits, this value of `money` is negative since you are in debt.\n",
    "- To calculate loss based on debt, your loss is the negation of the amount of debt you have (`-money`).  *(Ex: The negation of -$500,000 is -(-$500,000) or \"a loss of $500,000\".)*\n",
    "- In addition to the debt you racked up, you also loss all of your initial $100,000.  Make sure to add that initial $100,000 to your calculation of `totalLoss`."
   ]
  },
  {
   "cell_type": "code",
   "execution_count": 0,
   "metadata": {},
   "outputs": [],
   "source": [
    "totalLoss = ...\n",
    "totalLoss"
   ]
  },
  {
   "cell_type": "code",
   "execution_count": 0,
   "metadata": {},
   "outputs": [],
   "source": [
    "### TEST CASE for Part 3.2: Analysis of Losses in Games with Table Limits\n",
    "tada = \"\\N{PARTY POPPER}\"\n",
    "\n",
    "assert( \"totalLoss\" in vars() ), \"Make sure your total money lost is stored in `totalLoss`.\"\n",
    "assert( (r := abs(totalLoss - (1e5 - df.iloc[-1].money - df[\"result\"].tail(n=1).values[0]))) <= 2 * abs(df.iloc[-1].result)  ), \"Your `totalLoss` is incorrect. Remember that your total money lost is the money amount at the end of all your games in addition to your original $100,000.\"\n",
    "\n",
    "def formatMoney(value):\n",
    "  value = round(value, 2)\n",
    "  return \"${:,}\".format(value)\n",
    "\n",
    "tada = \"\\N{PARTY POPPER}\"\n",
    "if (r != 0):\n",
    "  print(\"⚠️ Your answer for `totalLoss` is close, but not exactly correct. ⚠️\")\n",
    "  print(\"- It looks like you calculated `totalLoss` by taking the `money` before the final game in your calculation of `totalLoss`.\")\n",
    "  print(\"- You did not account for the `result` of the very last game. Make sure to include the final game's result in your calculation of `totalLoss`.\")\n",
    "else:\n",
    "  print(f\"{tada} All basic tests passed! {tada}\")\n",
    "  if totalLoss > 0:\n",
    "    print()\n",
    "    print(f\"You turned your initial $100,000 into an additional {formatMoney(-(100000 - totalLoss))} of debt. (!!)\")"
   ]
  },
  {
   "cell_type": "markdown",
   "execution_count": 0,
   "metadata": {},
   "outputs": [],
   "source": [
    "### Part 3.4: Reflection\n",
    "\n",
    "The martingale betting strategy is, in theory, **not a completely crazy idea** -- your initial data visualization showed you had a slow but steady increase in money when using the martingale system.\n",
    "\n",
    "However, **as soon as table limits are introduced**, you are prevented from making massive bets to recover from streaks of bad luck, and the strategy completely falls apart and debt stacks up quickly!\n",
    "\n",
    "Congratulations on writing quite a complex simulation!! 🎉"
   ]
  },
  {
   "cell_type": "markdown",
   "execution_count": 0,
   "metadata": {},
   "outputs": [],
   "source": [
    "<hr style=\"color: #DD3403;\">"
   ]
  },
  {
   "attachments": {},
   "cell_type": "markdown",
   "execution_count": 0,
   "metadata": {},
   "outputs": [],
   "source": [
    "## Submission\n",
    "\n",
    "You're almost done!  All you need to do is to commit your lab to GitHub and run the GitHub Actions Grader:\n",
    "\n",
    "1.  ⚠️ **Make certain to save your work.** ⚠️ To do this, go to **File => Save All**\n",
    "\n",
    "2.  After you have saved, exit this notebook and return to https://discovery.cs.illinois.edu/microproject/infinite-money-in-roulette-martingale/ and complete the section **\"Commit and Grade Your Notebook\"**.\n",
    "\n",
    "3. If you see a 100% grade result on your GitHub Action, you've completed this MicroProject! 🎉"
   ]
  }
 ],
 "metadata": {
  "kernelspec": {
   "display_name": "Python 3",
   "language": "python",
   "name": "python3"
  },
  "language_info": {
   "codemirror_mode": {
    "name": "ipython",
    "version": 3
   },
   "file_extension": ".py",
   "mimetype": "text/x-python",
   "name": "python",
   "nbconvert_exporter": "python",
   "pygments_lexer": "ipython3",
   "version": "3.11.3"
  },
  "vscode": {
   "interpreter": {
    "hash": "369f2c481f4da34e4445cda3fffd2e751bd1c4d706f27375911949ba6bb62e1c"
   }
  }
 },
 "nbformat": 4,
 "nbformat_minor": 2
}
