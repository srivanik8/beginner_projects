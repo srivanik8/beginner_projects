{
 "cells": [
  {
   "attachments": {},
   "cell_type": "markdown",
   "execution_count": 0,
   "metadata": {},
   "outputs": [],
   "source": [
    "<h1 style=\"text-align: center\">\n",
    "<div style=\"color: #DD3403; font-size: 60%\">Data Science DISCOVERY MicroProject</div>\n",
    "<span style=\"\">MicroProject #4: United States Congress</span>\n",
    "<div style=\"font-size: 60%;\"><a href=\"https://discovery.cs.illinois.edu/microproject/us-congress/\">https://discovery.cs.illinois.edu/microproject/us-congress/</a></div>\n",
    "</h1>\n",
    "\n",
    "<hr style=\"color: #DD3403;\">"
   ]
  },
  {
   "attachments": {},
   "cell_type": "markdown",
   "execution_count": 0,
   "metadata": {},
   "outputs": [],
   "source": [
    "## Data Source: \"congress-legislators\"\n",
    "\n",
    "The [@unitedstates GitHub organization](https://github.com/unitedstates) described itself as a \"shared commons of data and tools for the United States. Made by the public, used by the public.\"  Their most popular work is the `congress-legislators` collection of data, which contains every member \"of the United States Congress (1789-Present), congressional committees (1973-Present), committee membership (current only), and presidents and vice presidents of the United States in YAML, JSON, and CSV format.\"\n",
    "\n",
    "The dataset of currently serving Members of Congress, known as the `legislators-current` dataset, is in CSV format at https://unitedstates.github.io/congress-legislators/legislators-current.csv.\n",
    "\n",
    "In this MicroProject, you'll both explore working with the date/time \"data type\" or \"dtype\" in pandas and create several exploratory data visualizations!  Let's nerd out! 🎉\n",
    "\n",
    "### Background Knowledge\n",
    "\n",
    "To finish this MicroProject, we assume you already know:\n",
    "\n",
    "- All topics covered in *DISCOVERY Module 1: Basics of Data Science with Python* ([review the module here](https://discovery.cs.illinois.edu/learn/))\n",
    "- Adding new rows and columns into an existing DataFrame ([review creating new columns here](https://discovery.cs.illinois.edu/guides/Modifying-DataFrames/adding-columns-in-dataframes/))\n",
    "\n",
    "Let's get started! :)"
   ]
  },
  {
   "cell_type": "markdown",
   "execution_count": 0,
   "metadata": {},
   "outputs": [],
   "source": [
    "<hr style=\"color: #DD3403;\">"
   ]
  },
  {
   "cell_type": "markdown",
   "execution_count": 0,
   "metadata": {},
   "outputs": [],
   "source": [
    "## Part 1: Importing the `legislators-current` dataset\n",
    "\n",
    "Create a DataFrame in the Python variable named `df` that contains the `legislators-current` data located at the following URL:\n",
    "\n",
    "> ```\n",
    "> https://unitedstates.github.io/congress-legislators/legislators-current.csv\n",
    "> ```"
   ]
  },
  {
   "cell_type": "code",
   "execution_count": 0,
   "metadata": {},
   "outputs": [],
   "source": [
    "# Import the `legislators-current` dataset into the Python variable `df`:\n",
    "#   https://unitedstates.github.io/congress-legislators/legislators-current.csv\n",
    "..."
   ]
  },
  {
   "cell_type": "markdown",
   "execution_count": 0,
   "metadata": {},
   "outputs": [],
   "source": [
    "### Understanding the Truncation of Rows and Columns in a DataFrame's Output\n",
    "\n",
    "To save space, pandas will default to showing a truncated list of rows and columns by using the `...` to skip over columns when there are too many columns.\n",
    "\n",
    "The pandas library provides over a hundred different configurable options for DataFrames that you, a data scientist, can control using the `pd.get_option(\"option.name\")` and `pd.set_option(\"option.name\", value)` functions.\n",
    "\n",
    "The option that controls the maximum number of columns that are visible before Python begins to truncate your output is named `display.max_columns`.\n",
    "\n",
    "Run the code below to see what the current, default value for `display.max_columns`:"
   ]
  },
  {
   "cell_type": "code",
   "execution_count": 0,
   "metadata": {},
   "outputs": [],
   "source": [
    "pd.get_option(\"display.max_columns\")"
   ]
  },
  {
   "cell_type": "markdown",
   "execution_count": 0,
   "metadata": {},
   "outputs": [],
   "source": [
    "### Updating the `display.max_columns` Value\n",
    "\n",
    "After finding the default option, change the number of max_columns displayed in this notebook to `50` columns (instead of the default `20` columns) by using the `set_option` command explained in the previous section:"
   ]
  },
  {
   "cell_type": "code",
   "execution_count": 0,
   "metadata": {},
   "outputs": [],
   "source": [
    "# Set the `display.max_columns` option to 50:\n",
    "..."
   ]
  },
  {
   "cell_type": "markdown",
   "execution_count": 0,
   "metadata": {},
   "outputs": [],
   "source": [
    "In addition to setting the maximum columns to 50, you can feel free to change:\n",
    "- the number of rows using `\"display.max_rows\"` (default is `60`)\n",
    "- ...or most any of the options available at in the [pandas documentation for `set_option`](https://pandas.pydata.org/docs/reference/api/pandas.set_option.html)."
   ]
  },
  {
   "cell_type": "markdown",
   "execution_count": 0,
   "metadata": {},
   "outputs": [],
   "source": [
    "### Display the DataFrame\n",
    "\n",
    "With the updated `display.max_columns` value, display the DataFrame again and note that all columns are visible by scrolling right to view the entire DataFrame:"
   ]
  },
  {
   "cell_type": "code",
   "execution_count": 0,
   "metadata": {},
   "outputs": [],
   "source": [
    "df"
   ]
  },
  {
   "cell_type": "code",
   "execution_count": 0,
   "metadata": {},
   "outputs": [],
   "source": [
    "### TEST CASE for Part 1: Importing the legislators-current dataset\n",
    "#\n",
    "# What is this cell?\n",
    "# - This cell contains test cases for the MicroProject.  You can modify anything except\n",
    "#   the first line of this cell, but we will replace this cell with a new version of this\n",
    "#   cell when your MicroProject is graded.  It's usually best to not change this cell!\n",
    "#\n",
    "# - To run the test cases we have for you, just run this Python cell like any other cell! :)\n",
    "#\n",
    "# - If this cell runs without any error in the output, you PASSED all test cases!\n",
    "#   We try and make these test cases as useful and complete as possible, but there is\n",
    "#   a chance your code may be incorrect even though you pass the test cases (these\n",
    "#   tests should be seen as a way to give you confidence that code you understand how\n",
    "#   it works is actually correct, not as a robust check to catch all possible errors).\n",
    "#\n",
    "# - If this cell results in any errors, check you previous cells, make changes, and\n",
    "#   RE-RUN your code and then re-run this cell.  Keep repeating this until the cell\n",
    "#   passed with no errors! :)\n",
    "#\n",
    "# - You will find more cells that begin with the words \"TEST CASE\" throughout the\n",
    "#   notebook at important points to make sure everything is looking good so far!\n",
    "#\n",
    "\n",
    "tada = \"\\N{PARTY POPPER}\"\n",
    "assert( \"df\" in vars() ), \"Make sure to load the dataset into the Python variable named `df`.\"\n",
    "assert( pd.get_option(\"display.max_columns\") == 50 ), \"Make sure your `display.max_columns` is set to 50.\"\n",
    "print(f\"{tada} All Tests Passed! {tada}\")"
   ]
  },
  {
   "attachments": {},
   "cell_type": "markdown",
   "execution_count": 0,
   "metadata": {},
   "outputs": [],
   "source": [
    "<hr style=\"color: #DD3403;\">"
   ]
  },
  {
   "attachments": {},
   "cell_type": "markdown",
   "execution_count": 0,
   "metadata": {},
   "outputs": [],
   "source": [
    "## Part 2: Working with Dates in pandas via Congressional Birthdays\n",
    "\n",
    "One of the trickiest things to work with in data science are dates.  One of the first challenges is that dates can be represented in many, many ways:\n",
    "- In the United States, December 13, 1989 is commonly written as `12/13/1989`, `12/13/89`, or `12-13-89`.  Each of these contain the month, then day, and then year.\n",
    "- In Europe, the same December 13, 1989 is commonly written as `13/12/1989`, `13/12/89` or `13-12-1989`.  Instead of listing the month first, the day is listed first, then month, and then year.\n",
    "- In many other places in the world, the same December 13, 1989 is written as `1989/12/13` or `1989-12-13`.  This format lists the year first, then month, and then day.\n",
    "\n",
    "In 1988, a group of computer scientists met together and published an international standard for the \"worldwide exchange and communication of date and time-related data\".  This standard is referred to as **ISO 8601** and is the universal format to easily work with dates as data.\n",
    "\n",
    "The ISO 8601 standard says that dates must be encoded in only one of two formats:\n",
    "- Option #1: `YYYY-MM-DD`\n",
    "- Option #2: `YYYYMMDD` (same order, but without the `-`)\n",
    "\n",
    "Let's look at the birthday column in the dataset and see if this standard is followed in our dataset:"
   ]
  },
  {
   "cell_type": "code",
   "execution_count": 0,
   "metadata": {},
   "outputs": [],
   "source": [
    "df.birthday"
   ]
  },
  {
   "cell_type": "markdown",
   "execution_count": 0,
   "metadata": {},
   "outputs": [],
   "source": [
    "### Part 2.1: Converting an ISO formatted date into a DateTime data type\n",
    "\n",
    "At the bottom of the output above, pandas will report the datatype -- or `dtype` -- of the data is an `object`:\n",
    "\n",
    "> *Example:*\n",
    "> <hr>\n",
    ">\n",
    "> ```\n",
    "> ...\n",
    "> Name: birthday, Length: 539, dtype: object\n",
    "> ```\n",
    "> <hr>\n",
    "\n",
    "In general, there are three major data types commonly used in a DataFrame:\n",
    "- Numbers, commonly with a dtype of `int64` (whole numbers) or `float64` (numbers with decimals),\n",
    "- Strings, commonly with a dtype of `object`, **AND**\n",
    "- Date/Time, commonly with a dtype of `datetime64[ns]`\n",
    "\n",
    "When the dtype of a column is a number, we can perform numerical operations on the data (ex: `sum`, `mean`, etc).  When the dtype of the data is a string, we can perform string operations on the data (ex: `contains`, etc).  Finally, when the dtype is a Date/Time, we can perform datetime operations on it (ex: `month`, `day`, etc).\n",
    "\n",
    "To convert data from a string to a date, the pandas library provides the function:\n",
    "\n",
    "> ```py\n",
    "> pd.to_datetime( df[\"column_with_iso_date_strings\"] )\n",
    "> ```\n",
    "\n",
    "Create a new column in your DataFrame `df` called `birthday_dt` that stores the `birthday` date as a DateTime:"
   ]
  },
  {
   "cell_type": "code",
   "execution_count": 0,
   "metadata": {},
   "outputs": [],
   "source": [
    "df[\"birthday_dt\"] = ...\n",
    "df[\"birthday_dt\"]"
   ]
  },
  {
   "cell_type": "markdown",
   "execution_count": 0,
   "metadata": {},
   "outputs": [],
   "source": [
    "The **data should look the same**, but the `dtype` will be updated to `datetime64[ns]` instead of `object`."
   ]
  },
  {
   "cell_type": "code",
   "execution_count": 0,
   "metadata": {},
   "outputs": [],
   "source": [
    "### TEST CASE for Part 2.1: Converting an ISO formatted date into a DateTime data type\n",
    "\n",
    "tada = \"\\N{PARTY POPPER}\"\n",
    "assert( \"birthday_dt\" in df ), \"Your DataFrame `df` must contain the column `birthday_dt`.\"\n",
    "assert( \"birthday\" in df ), \"Your DataFrame `df` must contain the column `birthday`.\"\n",
    "assert( len(df) > 0 ), \"Your DataFrame `df` contains no data -- make sure you did not accidentally filter all of the data.\"\n",
    "assert( \"str\" in str(type(df.birthday.values[0])) ), \"The `birthday` column must be a string and NOT a datetime (did you save the datetime back in `birthday` instead of `birthday_dt`?).\"\n",
    "assert( \"datetime\" in str(type(df.birthday_dt.values[0])) ), \"The `birthday_dt` column must have a dtype of datetime.\"\n",
    "print(f\"{tada} All Tests Passed! {tada}\")"
   ]
  },
  {
   "cell_type": "markdown",
   "execution_count": 0,
   "metadata": {},
   "outputs": [],
   "source": [
    "### Part 2.2: Using DateTime Operations\n",
    "\n",
    "When your data in a DataFrame is the dtype of `datetime64[ns]`, we are able to access date-specific functions for the column by using the `.dt` functions.  Several common functions we can now use on the `birthday_dt` column include:\n",
    "\n",
    "```py\n",
    "df[\"birthday_dt\"].dt.month   # Returns the numeric month; ex: 1 for January through 12 for December\n",
    "df[\"birthday_dt\"].dt.day     # Returns the numeric day of the month; ex: 13 for Dec. 13, 1989 (`1989-12-13`)\n",
    "df[\"birthday_dt\"].dt.year    # Returns the numeric year; ex: 1989\n",
    "\n",
    "df[\"birthday_dt\"].dt.dayofweek   # Returns a numeric day of the week; 0 for Monday through 6 for Sunday\n",
    "\n",
    "df[\"birthday_dt\"].dt.hour    # Returns the numeric hour based on a 24-hour clock\n",
    "df[\"birthday_dt\"].dt.minute  # Returns the numeric minute\n",
    "df[\"birthday_dt\"].dt.second  # Returns the numeric second\n",
    "\n",
    "# ..and several others...\n",
    "```\n",
    "\n",
    "#### Finding Birthdays\n",
    "\n",
    "When every seat in Congress is filled, there are a total of 541 members (100 senators, 435 voting representatives, and 6 non-voting representatives from non-voting districts and territories).  Since there are at most 366 days in a leap year, is it **always** someone's birthday in Congress?\n",
    "\n",
    "To nerd out with some exploratory data analysis to answer this question, we will graph every day of the year as a scatter plot with x-axis containing the day of birth of each member of congress and the y-axis containing the month of birth of each member of Congress.\n",
    "\n",
    "To create this scatter plot, we need both pieces of data in individual columns in our DataFrame:\n",
    "1. Add a new column to `df` called `dayOfBirth` that contains the day of birth for the member of Congress\n",
    "2. Add a new column to `df` called `monthOfBirth` that contains the day of month for the member of Congress"
   ]
  },
  {
   "cell_type": "code",
   "execution_count": 0,
   "metadata": {},
   "outputs": [],
   "source": [
    "# Add a new column to df called `dayOfBirth`:\n",
    "..."
   ]
  },
  {
   "cell_type": "code",
   "execution_count": 0,
   "metadata": {},
   "outputs": [],
   "source": [
    "# Add a new column to df called `monthOfBirth`:\n",
    "..."
   ]
  },
  {
   "cell_type": "code",
   "execution_count": 0,
   "metadata": {},
   "outputs": [],
   "source": [
    "### TEST CASE for Part 2.2: Using DateTime Operations\n",
    "\n",
    "tada = \"\\N{PARTY POPPER}\"\n",
    "assert( \"dayOfBirth\" in df ), \"Your DataFrame `df` must contain the column `dayOfBirth`.\"\n",
    "assert( \"monthOfBirth\" in df ), \"Your DataFrame `df` must contain the column `monthOfBirth`.\"\n",
    "for i in range(1, 12 + 1):\n",
    "  assert( df[\"monthOfBirth\"].value_counts().loc[i] == len(df[df.birthday_dt.dt.month == i]) ), f\"Your `monthOfBirth` data does not match the birth months of all the members of Congress (month {i} should have {len(df[df.birthday_dt.dt.month == i])} people with the birthday.) \"\n",
    "for i in range(1, 28 + 1):\n",
    "  assert( df[\"dayOfBirth\"].value_counts().loc[i] == len(df[df.birthday_dt.dt.day == i]) ), f\"Your `dayOfBirth` data does not match the birth day of all the members of Congress (day {i} should have {len(df[df.birthday_dt.dt.day == i])} people with the birthday.) \"\n",
    "print(f\"{tada} All Tests Passed! {tada}\")\n"
   ]
  },
  {
   "cell_type": "markdown",
   "execution_count": 0,
   "metadata": {},
   "outputs": [],
   "source": [
    "### Part 2.3: Create a Scatter Plot\n",
    "\n",
    "Using `df.plot.scatter`, create a scatter plot with the x-axis data being the day of birth of each member of Congress and the y-axis data being the month of birth of each member of Congress:\n",
    "\n",
    "*(If you need a refresher, the [DISCOVERY page \"Basic Data Visualization in Python\"](https://discovery.cs.illinois.edu/learn/Exploratory-Data-Analysis/Basic-Data-Visualization-in-Python/#Specifying-x-and-y-Column-Values) steps you through the code to build a scatter plot!)*"
   ]
  },
  {
   "cell_type": "code",
   "execution_count": 0,
   "metadata": {},
   "outputs": [],
   "source": [
    "# Create a scatter plot:\n",
    "..."
   ]
  },
  {
   "cell_type": "markdown",
   "execution_count": 0,
   "metadata": {},
   "outputs": [],
   "source": [
    "#### Analysis: A Day Without a Birthday Celebration?\n",
    "\n",
    "The scatter plot of days/months of birth an example of an **exploratory data visualization**.  This visualization alone does not provide much context about the data itself and may be difficult for others to immediately understand, but it helps a data scientist understand the data to ask additional questions.\n",
    "\n",
    "Using your exploratory data visualization, write a date in ISO format that no member of Congress will have a birthday (using the current year as the year) and store that date in the Python variable `noCongressBirthdaysCelebrated`:"
   ]
  },
  {
   "cell_type": "code",
   "execution_count": 0,
   "metadata": {},
   "outputs": [],
   "source": [
    "# Write a date in ISO format for a date that no member of Congress will have a birthday (using the current year as the year):\n",
    "noCongressBirthdaysCelebrated = ...\n",
    "noCongressBirthdaysCelebrated"
   ]
  },
  {
   "cell_type": "code",
   "execution_count": 0,
   "metadata": {},
   "outputs": [],
   "source": [
    "### TEST CASE for Part 2.3: A Day Without a Birthday Celebration\n",
    "\n",
    "tada = \"\\N{PARTY POPPER}\"\n",
    "assert( \"noCongressBirthdaysCelebrated\" in vars() ), \"You must define a Python variable `noCongressBirthdaysCelebrated`.\"\n",
    "assert( type(noCongressBirthdaysCelebrated) == type(\"\") ), \"The contents of the Python variable `noCongressBirthdaysCelebrated` must be a string.\"\n",
    "import datetime\n",
    "dt = datetime.datetime.fromisoformat(noCongressBirthdaysCelebrated)\n",
    "now = datetime.datetime.now()\n",
    "assert( dt.year == now.year ), f\"The `noCongressBirthdaysCelebrated` must be a date in the current year ({now.year})\"\n",
    "birthdays_ct = len(df[ (df.dayOfBirth == dt.day) & (df.monthOfBirth == dt.month) ])\n",
    "assert( birthdays_ct == 0 ), f\"Your `noCongressBirthdaysCelebrated` has {birthdays_ct} member(s) of congress with that day/month of birth.  You need to find a date with no one celebrating their birthday.\"\n",
    "print(f\"{tada} All Tests Passed! {tada}\")"
   ]
  },
  {
   "cell_type": "markdown",
   "execution_count": 0,
   "metadata": {},
   "outputs": [],
   "source": [
    "### Part 2.4: Showing Popular Birthdays\n",
    "\n",
    "In addition to providing the `x` and `y` values to the `df.plot.scatter` function, you can provide an `alpha` value to your scatter plot to make the data points partially transparent to see where there are multiple data points at a single location.\n",
    "\n",
    "Create another scatter plot of the same data, adding to the function the option `alpha = 0.2` to make each data point 80% transparent.  *(Feel free to play with the alpha value to make it exactly how you like it!)*"
   ]
  },
  {
   "cell_type": "code",
   "execution_count": 0,
   "metadata": {},
   "outputs": [],
   "source": [
    "# Create a scatter plot with alpha transparency of your data points:\n",
    "..."
   ]
  },
  {
   "cell_type": "markdown",
   "execution_count": 0,
   "metadata": {},
   "outputs": [],
   "source": [
    "#### Analysis: A Popular Day for Birthdays\n",
    "\n",
    "Most days of the year have a single member of Congress with a birthday on that day.  In your exploratory data visualization with alpha transparency, days with only a single birthday will visually show as a very pale dot.\n",
    "\n",
    "When two members of Congress have a birthday on the same day, the two partially transparent dots are drawn on top of each other making the data point darker.\n",
    "\n",
    "Write a date in ISO format for a date that at least four members of congress will celebrate their birthday together (using the current year as the year) and store it in the variable `popularCongressBirthday`:"
   ]
  },
  {
   "cell_type": "code",
   "execution_count": 0,
   "metadata": {},
   "outputs": [],
   "source": [
    "# Write a date in ISO format for a date that at least four members of congress will celebrate their birthday together \n",
    "# (using the current year as the year):\n",
    "popularCongressBirthday = ...\n",
    "popularCongressBirthday"
   ]
  },
  {
   "cell_type": "code",
   "execution_count": 0,
   "metadata": {},
   "outputs": [],
   "source": [
    "### TEST CASE for Part 2.4: A Popular Day for Birthdays\n",
    "\n",
    "tada = \"\\N{PARTY POPPER}\"\n",
    "assert( \"popularCongressBirthday\" in vars() ), \"You must define a Python variable `popularCongressBirthday`.\"\n",
    "assert( type(popularCongressBirthday) == type(\"\") ), \"The contents of the Python variable `popularCongressBirthday` must be a string.\"\n",
    "import datetime\n",
    "dt = datetime.datetime.fromisoformat(popularCongressBirthday)\n",
    "now = datetime.datetime.now()\n",
    "assert( dt.year == now.year ), f\"The `popularCongressBirthday` must be a date in the current year ({now.year})\"\n",
    "birthdays_ct = len(df[ (df.dayOfBirth == dt.day) & (df.monthOfBirth == dt.month) ])\n",
    "assert( birthdays_ct >= 4 ), f\"Your `popularCongressBirthday` has {birthdays_ct} member(s) of congress with that day/month of birth.  You need to find a date with AT LEAST 4 members of congress celebrating their birthday on the same day.\"\n",
    "print(f\"{tada} All Tests Passed! {tada}\")"
   ]
  },
  {
   "attachments": {},
   "cell_type": "markdown",
   "execution_count": 0,
   "metadata": {},
   "outputs": [],
   "source": [
    "<hr style=\"color: #DD3403;\">"
   ]
  },
  {
   "cell_type": "markdown",
   "execution_count": 0,
   "metadata": {},
   "outputs": [],
   "source": [
    "## Part 3: The House of Representatives and The Senate\n",
    "\n",
    "There's one final question about birthdays -- are senators or representatives older?"
   ]
  },
  {
   "cell_type": "markdown",
   "execution_count": 0,
   "metadata": {},
   "outputs": [],
   "source": [
    "### Part 3.1: Calculating the Age of Each Member of Congress\n",
    "\n",
    "One unique features of the `datetime` dtype is that, just like numeric data, you can add and subtract dates!  Unlike numeric data, however, the difference between two dates is a span of time called a \"time delta\".  In the cell below, we calculate the \"time delta\" from the current moment in time (`datetime.datetime.now()`) to the time that each member of Congress was born:"
   ]
  },
  {
   "cell_type": "code",
   "execution_count": 0,
   "metadata": {},
   "outputs": [],
   "source": [
    "# Calculate the age of every member of Congress:\n",
    "import datetime\n",
    "(datetime.datetime.now() - df.birthday_dt)"
   ]
  },
  {
   "cell_type": "markdown",
   "execution_count": 0,
   "metadata": {},
   "outputs": [],
   "source": [
    "By default, the largest unit of time that Python natively understands is \"1 day\" (exactly 86,400 seconds).  A more meaningful measure for us, as humans, is to represent someone's age in terms of **years** instead of days.\n",
    "\n",
    "In Python, when you have a \"time delta\", we can divide by another time delta to get a numeric value.\n",
    "\n",
    "In the following cell, we divide the previous calculation by 365.25 days (an very close approximation for the number of days in a year, accounting for leap years):"
   ]
  },
  {
   "cell_type": "code",
   "execution_count": 0,
   "metadata": {},
   "outputs": [],
   "source": [
    "# Calculate the age of every member of Congress, in years:\n",
    "(datetime.datetime.now() - df.birthday_dt) / pd.Timedelta(\"365.25 days\")"
   ]
  },
  {
   "cell_type": "markdown",
   "execution_count": 0,
   "metadata": {},
   "outputs": [],
   "source": [
    "Assign the calculation we did above to a new column in the DataFrame named `age` to store each member's age:"
   ]
  },
  {
   "cell_type": "code",
   "execution_count": 0,
   "metadata": {},
   "outputs": [],
   "source": [
    "# Assign the age (in years) of each member of congress to a new column named \"age\":\n",
    "..."
   ]
  },
  {
   "cell_type": "code",
   "execution_count": 0,
   "metadata": {},
   "outputs": [],
   "source": [
    "### TEST CASE for Part 3.1: Calculating the Age of Each Member of Congress\n",
    "tada = \"\\N{PARTY POPPER}\"\n",
    "assert( \"age\" in df ), \"You must have a column in your DataFrame `df` named \\\"age\\\".\"\n",
    "assert( df.age.mean() > 40 ), \"The average age in your DataFrame is unreasonably low. Check your \\\"age\\\" column data.\"\n",
    "assert( df.age.mean() < 70 ), \"The average age in your DataFrame is unreasonably high. Check your \\\"age\\\" column data.\"\n",
    "print(f\"{tada} All Tests Passed! {tada}\")"
   ]
  },
  {
   "cell_type": "markdown",
   "execution_count": 0,
   "metadata": {},
   "outputs": [],
   "source": [
    "### Part 3.2: Senators vs. Representatives\n",
    "\n",
    "In this dataset, each row is one person who is a member of the United States Congress.  The United States Congress is bicameral, being made up of both the House of Representatives and the Senate.  In the dataset:\n",
    "\n",
    "- Representatives in the House of Representatives represent a district, which is encoded in the `district` column.  Their `type` column contains the string `\"rep\"`.\n",
    "- Senators are elected for six years, with one-third of the senators up for election every two years.  The `senate_class` denotes which election class a senator is in and when they are up for election.  A senator's `type` column contains the string `\"sen\"`.\n",
    "\n",
    "In the following two cells, create two new DataFrames, `df_house` and `df_senate`, that contain members from only the House of Representatives (`df_house`) and the Senate (`df_senate`):"
   ]
  },
  {
   "cell_type": "code",
   "execution_count": 0,
   "metadata": {},
   "outputs": [],
   "source": [
    "df_house = ...\n",
    "df_house"
   ]
  },
  {
   "cell_type": "code",
   "execution_count": 0,
   "metadata": {},
   "outputs": [],
   "source": [
    "df_senate = ...\n",
    "df_senate"
   ]
  },
  {
   "cell_type": "markdown",
   "execution_count": 0,
   "metadata": {},
   "outputs": [],
   "source": [
    "### 🔬 MicroProject Checkpoint Tests 🔬"
   ]
  },
  {
   "cell_type": "code",
   "execution_count": 0,
   "metadata": {},
   "outputs": [],
   "source": [
    "### TEST CASE for Part 3.2: Senators vs. Representatives\n",
    "\n",
    "tada = \"\\N{PARTY POPPER}\"\n",
    "assert( len(df) > 500 ), \"Your DataFrame `df` appears to not be the full dataset?  Did you modify `df` instead of creating a new `df_house` or `df_senate`?\"\n",
    "assert( len(df_senate) <= 100 ), \"Your DataFrame `df_senate` contains more than 100 rows, but there should be 100 (or fewer) senators.\"\n",
    "assert( len(df_house) == len(df) - len(df_senate) ), \"Your DataFrame `df_house` does not contain everyone who isn't in the senate.\"\n",
    "print(f\"{tada} All Tests Passed! {tada}\")"
   ]
  },
  {
   "cell_type": "markdown",
   "execution_count": 0,
   "metadata": {},
   "outputs": [],
   "source": [
    "### Part 3.3: Box Plots\n",
    "\n",
    "Finally, let's visually answer if question: **are senators or representatives older?**\n",
    "\n",
    "To create a box plot to view the distribution of ages, we can use `df.plot.box(...)`.  The three options we absolutely need to use to create a box plot include:\n",
    "- `by=\"type\"`, to inform pandas to create a different box for each \"type\" of member of Congress (senators and representatives)\n",
    "- `column=\"age\"`, to inform pandas to use the `age` column when computing the Q1, Q2, Q3, and outliers\n",
    "- `title=\"Current Age of Members of Congress, by Chamber\"`, to provide a descriptive title\n",
    "\n",
    "Additionally, you may want to optionally add any, all, or none of the following options:\n",
    "- `vert=False`, if you prefer a horizontal box plot\n",
    "- `grid=True`, if you prefer gridlines on your box plot\n",
    "- `figsize=(6, 4)`, to resize the shape of your plot (*adjusting `6` and `4` as necessary*)"
   ]
  },
  {
   "cell_type": "code",
   "execution_count": 0,
   "metadata": {},
   "outputs": [],
   "source": [
    "# Create your box plot:\n",
    "..."
   ]
  },
  {
   "cell_type": "markdown",
   "execution_count": 0,
   "metadata": {},
   "outputs": [],
   "source": [
    "### Box Plot Analysis\n",
    "\n",
    "The box plot shows the distribution of every member of Congress is a single visualization.  From this, you can answer a lot of questions:\n",
    "- Is the average median age of a representatives or senators older?\n",
    "- Is the youngest representative older than the youngest senator?  How old is that person?\n",
    "- Is the oldest representative younger than the oldest senator?  How old is that person?\n",
    "- What's the oldest age you can be and still be younger than the half of all senators in the Senate?\n",
    "- ... and many other questions, all from one visualization! :)"
   ]
  },
  {
   "cell_type": "markdown",
   "execution_count": 0,
   "metadata": {},
   "outputs": [],
   "source": [
    "<hr style=\"color: #DD3403;\">"
   ]
  },
  {
   "attachments": {},
   "cell_type": "markdown",
   "execution_count": 0,
   "metadata": {},
   "outputs": [],
   "source": [
    "## Submission\n",
    "\n",
    "You're almost done!  All you need to do is to commit your lab to GitHub and run the GitHub Actions Grader:\n",
    "\n",
    "1.  ⚠️ **Make certain to save your work.** ⚠️ To do this, go to **File => Save All**\n",
    "\n",
    "2.  After you have saved, exit this notebook and return to https://discovery.cs.illinois.edu/microproject/us-congress/ and complete the section **\"Commit and Grade Your Notebook\"**.\n",
    "\n",
    "3. If you see a 100% grade result on your GitHub Action, you've completed this MicroProject! 🎉\n"
   ]
  }
 ],
 "metadata": {
  "kernelspec": {
   "display_name": "Python 3",
   "language": "python",
   "name": "python3"
  },
  "language_info": {
   "codemirror_mode": {
    "name": "ipython",
    "version": 3
   },
   "file_extension": ".py",
   "mimetype": "text/x-python",
   "name": "python",
   "nbconvert_exporter": "python",
   "pygments_lexer": "ipython3",
   "version": "3.11.9"
  },
  "vscode": {
   "interpreter": {
    "hash": "369f2c481f4da34e4445cda3fffd2e751bd1c4d706f27375911949ba6bb62e1c"
   }
  }
 },
 "nbformat": 4,
 "nbformat_minor": 2
}
