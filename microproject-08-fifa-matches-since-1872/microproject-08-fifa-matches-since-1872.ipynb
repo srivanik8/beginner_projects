{
 "cells": [
  {
   "attachments": {},
   "cell_type": "markdown",
   "execution_count": 0,
   "metadata": {},
   "outputs": [],
   "source": [
    "<h1 style=\"text-align: center\">\n",
    "<div style=\"color: #DD3403; font-size: 60%\">Data Science DISCOVERY MicroProject</div>\n",
    "<span style=\"\">MicroProject #8: FIFA Matches since 1872</span>\n",
    "<div style=\"font-size: 60%;\"><a href=\"https://discovery.cs.illinois.edu/microproject/fifa-world-cup/\">https://discovery.cs.illinois.edu/microproject/fifa-world-cup/</a></div>\n",
    "</h1>\n",
    "\n",
    "<hr style=\"color: #DD3403;\">"
   ]
  },
  {
   "attachments": {},
   "cell_type": "markdown",
   "execution_count": 0,
   "metadata": {},
   "outputs": [],
   "source": [
    "## Data Source: FIFA International Soccer Match Data via GitHub\n",
    "\n",
    "The Fédération Internationale de Football Association, or simply FIFA, is the largest governing organization of international football (soccer) competition, including the FIFA World Cup that occurs once every four years.  The FIFA World Cup is likely the most popular sporting event in the world, drawing billions of viewers every tournament.\n",
    "\n",
    "Mart Jürisoo (@martj42) maintains the [@martj42/international_results](https://github.com/martj42/international_results) GitHub repository that has collected over 45,000 *\"results of international football matches starting from the very first official match in 1872 [...]\"*.\n",
    "\n",
    "> *The matches range from FIFA World Cup to FIFI Wild Cup to regular friendly matches. The matches are strictly men's full internationals and the data does not include Olympic Games or matches where at least one of the teams was the nation's B-team, U-23 or a league select team.*\n",
    "\n",
    "In this MicroProject, you will find how to collect the raw URL for a GitHub-hosted dataset, group data using different variable on the dataset, and create visualizations highlighting over 150 years of FIFA matches!  Let's nerd out! 🎉\n",
    "\n",
    "### Background Knowledge\n",
    "\n",
    "To finish this MicroProject, we assume you already know:\n",
    "\n",
    "- All topics covered in *DISCOVERY Module 1: Basics of Data Science with Python* ([review the module here](https://discovery.cs.illinois.edu/learn/))\n",
    "- Grouping data in Python ([reviewing grouping data in Python](https://discovery.cs.illinois.edu/learn/Exploratory-Data-Analysis/Grouping-Data-in-Python/))\n",
    "- Adding new rows and columns into an existing DataFrame ([review creating new columns here](https://discovery.cs.illinois.edu/guides/Modifying-DataFrames/adding-columns-in-dataframes/))\n",
    "\n",
    "Let's get started! :)"
   ]
  },
  {
   "cell_type": "markdown",
   "execution_count": 0,
   "metadata": {},
   "outputs": [],
   "source": [
    "<hr style=\"color: #DD3403;\">"
   ]
  },
  {
   "cell_type": "markdown",
   "execution_count": 0,
   "metadata": {},
   "outputs": [],
   "source": [
    "## Part 1: Importing the FIFA Matches from GitHub\n",
    "\n",
    "When a CSV file is hosted on a public GitHub repository, you can import the dataset directly into your notebook by using the **raw**-format URL.  The \"raw file\" includes only the file's content, without anything added by GitHub.  To find the raw file URL:\n",
    "\n",
    "1. Visit the `@martj42/international_results` here: [https://github.com/martj42/international_results](https://github.com/martj42/international_results).\n",
    "2. Click the `results.csv` file.\n",
    "3. Click the `Raw` view on the top-right of the Github file viewer.\n",
    "4. Finally, use the URL of the page showing the raw CSV file as the URL for the dataset you're loading into the DataFrame named `df`.\n",
    "\n",
    "In the following cell, import the dataset as a DataFrame into the Python variable named `df` by using the raw URL from GitHub:"
   ]
  },
  {
   "cell_type": "code",
   "execution_count": 0,
   "metadata": {},
   "outputs": [],
   "source": [
    "df = ...\n",
    "df"
   ]
  },
  {
   "cell_type": "markdown",
   "execution_count": 0,
   "metadata": {},
   "outputs": [],
   "source": [
    "### Data Cleaning: Remove Incomplete Data\n",
    "\n",
    "The DataFrame you imported comes from a **continuously-updated repository** that has been updated over 200 times and contains over 45,000 FIFA matches.  If a FIFA match was played yesterday, it may already be in the dataset!  Occasionally, this dataset may contain incomplete rows of data that pandas represents as `NaN` or \"Not a Number\".\n",
    "\n",
    "In this MicroProject, we will focus on all the games that we have complete data.  To remove any incomplete rows, use `df = df.dropna()` to update `df` to a DataFrame that has dropped any rows with incomplete data.  Update your dataset below:"
   ]
  },
  {
   "cell_type": "code",
   "execution_count": 0,
   "metadata": {},
   "outputs": [],
   "source": [
    "df = ...\n",
    "df"
   ]
  },
  {
   "cell_type": "markdown",
   "execution_count": 0,
   "metadata": {},
   "outputs": [],
   "source": [
    "### Organizing Data: Adding Columns `year`\n",
    "\n",
    "In the DataFrame, a `date` column provides an ISO-formatted date string.  However, it will be useful to also have a column containing only the year.\n",
    "\n",
    "Run the following code to create a new column called `year`, which contains the first four characters of the `date` string as a numeric value (ex: `\"1872-11-30\"` is recorded as the numeric year `1872`):"
   ]
  },
  {
   "cell_type": "code",
   "execution_count": 0,
   "metadata": {},
   "outputs": [],
   "source": [
    "df[\"year\"] = df[\"date\"].str[0:4].astype(int)\n",
    "df"
   ]
  },
  {
   "cell_type": "code",
   "execution_count": 0,
   "metadata": {},
   "outputs": [],
   "source": [
    "### TEST CASE for Part 1: Importing the FIFA Matches from GitHub\n",
    "tada = \"\\N{PARTY POPPER}\"\n",
    "assert(\"df\" in vars()), \"You must have a Python variable named `df`.\"\n",
    "assert(df.isna().sum().sum() == 0), \"Your DataFrame `df` must not contain any rows with missing data.\"\n",
    "assert(\"home_team\" in df), \"Your DataFrame `df` does not appear to the the correct DataFrame?\"\n",
    "assert(\"year\" in df), \"Your DataFrame `df` must contain the column `year`.\"\n",
    "print(f\"{tada} All Tests Passed! {tada}\") "
   ]
  },
  {
   "attachments": {},
   "cell_type": "markdown",
   "execution_count": 0,
   "metadata": {},
   "outputs": [],
   "source": [
    "<hr style=\"color: #DD3403;\">"
   ]
  },
  {
   "attachments": {},
   "cell_type": "markdown",
   "execution_count": 0,
   "metadata": {},
   "outputs": [],
   "source": [
    "## Part 2: Calculating the Total Number of Goals Scored for Every Country\n",
    "\n",
    "In an international FIFA match, teams representing two countries play a game of football (soccer) where a few points are usually stored.  The dataset organizes the score of the match with columns `home_team` and `home_score` for the \"home team\" and `away_team` and `away_score` for the \"away (visiting) team\".\n",
    "\n",
    "Each observation in our dataset is a single game.  The first bit of exploratory data analysis (EDA) that would be interesting is to find the **total number of goals scored** by each country.  To do this, we'll need to:\n",
    "- Find the number of goals scored by each country as the \"home team\",\n",
    "- Find the number of goals scored by each country as the \"away team\", and\n",
    "- Merge the two DataFrames together to combine the goals they scored while \"home\" or \"away\".\n",
    "\n",
    "\n",
    "### Part 2.1: Finding the Goals Scored for each \"Home Team\"\n",
    "\n",
    "Create a new DataFrame named `df_home` that summarizes the entire DataFrame by each unique `home_team` and calculating the total number of home goals for each country.  *It is very useful to use `numeric_only=True` to make sure you sum only the numeric columns.*\n",
    "\n",
    "*(See the DISCOVERY lecture [\"Grouping Data in Python\"](https://discovery.cs.illinois.edu/learn/Exploratory-Data-Analysis/Grouping-Data-in-Python/) for a refresher on how to group data.)*"
   ]
  },
  {
   "cell_type": "code",
   "execution_count": 0,
   "metadata": {},
   "outputs": [],
   "source": [
    "df_home = ...\n",
    "df_home"
   ]
  },
  {
   "cell_type": "markdown",
   "execution_count": 0,
   "metadata": {},
   "outputs": [],
   "source": [
    "In `df_home`, the values for any column except the country (`home_team`) and score (`home_score`) are meaningless.  Remove any extra columns to ensure your DataFrame contains only the country and score:\n",
    "\n",
    "*(See the DISCOVERY guide [\"Removing Columns in a DataFrame\"](https://discovery.cs.illinois.edu/guides/Modifying-DataFrames/removing-columns-from-dataframes/) for a refresher on how to remove columns from a DataFrame.)*"
   ]
  },
  {
   "cell_type": "code",
   "execution_count": 0,
   "metadata": {},
   "outputs": [],
   "source": [
    "# Remove all unnecessary columns:\n",
    "...\n",
    "\n",
    "df_home"
   ]
  },
  {
   "cell_type": "code",
   "execution_count": 0,
   "metadata": {},
   "outputs": [],
   "source": [
    "### TEST CASE for Part 2.1: Finding the Goals Scored for each \"Home Team\"\n",
    "tada = \"\\N{PARTY POPPER}\"\n",
    "assert(\"df_home\" in vars()), \"You must define a Python variable `df_home`\"\n",
    "assert(type(df_home) == type(pd.DataFrame())), \"The variable `df_home` must be a DataFrame.\"\n",
    "assert(len(df_home) == len(df[\"home_team\"].unique())), \"The DataFrame `df_home` must have exactly one row for each home country.\"\n",
    "assert(\"home_score\" in df_home), \"The DataFrame `df_home` must have a `home_score` column.\"\n",
    "assert(\"home_team\" in df_home), \"The DataFrame `df_home` must have a `home_team` column (not as an index). Make sure to use .reset_index()!\"\n",
    "assert( len(df_home.columns) == 2 ), \"Your DataFrame `df_home` must have exactly two columns.\"\n",
    "for _df in [df_home.head(1), df_home[df_home[\"home_score\"] == df_home[\"home_score\"].max()] ]:\n",
    "  __ = _df[\"home_team\"].values[0]\n",
    "  assert( df[ df[\"home_team\"] == __ ][\"home_score\"].sum() == _df[\"home_score\"].values[0] ), f'The value of `home_score` in the DataFrame `df_home` must be the sum of all `home_score` records for each country. In your `df_home`, \"{__}\" has the value {_df[\"home_score\"].values[0]} but \"{__}\" has scored {df[ df[\"home_team\"] == __ ][\"home_score\"].sum()} goals in the full dataset `df`.'\n",
    "print(f\"{tada} All Tests Passed! {tada}\") "
   ]
  },
  {
   "attachments": {},
   "cell_type": "markdown",
   "execution_count": 0,
   "metadata": {},
   "outputs": [],
   "source": [
    "### Part 2.2: Finding the Goals Scored for each \"Away Team\"\n",
    "\n",
    "How about for away goals?  Do the same thing as you did in 2.1, but for `away_team` and `away_score`.  Call this DataFrame `df_away`:"
   ]
  },
  {
   "cell_type": "code",
   "execution_count": 0,
   "metadata": {},
   "outputs": [],
   "source": [
    "df_away = ...\n",
    "df_away"
   ]
  },
  {
   "cell_type": "markdown",
   "execution_count": 0,
   "metadata": {},
   "outputs": [],
   "source": [
    "Similar to what you did above, ensure sure you only have data for the columns about the country (`away_team`) and score (`away_score`). Remove any extra columns to ensure your DataFrame contains only the country and score:"
   ]
  },
  {
   "cell_type": "code",
   "execution_count": 0,
   "metadata": {},
   "outputs": [],
   "source": [
    "# Remove all unnecessary columns:\n",
    "...\n",
    "\n",
    "df_away"
   ]
  },
  {
   "cell_type": "code",
   "execution_count": 0,
   "metadata": {},
   "outputs": [],
   "source": [
    "### TEST CASE for Part 2.2: Finding the Goals Scored for each \"Away Team\"\n",
    "tada = \"\\N{PARTY POPPER}\"\n",
    "assert(\"df_away\" in vars()), \"You must define a Python variable `df_away`\"\n",
    "assert(type(df_away) == type(pd.DataFrame())), \"The variable `df_away` must be a DataFrame.\"\n",
    "assert(len(df_away) == len(df[\"away_team\"].unique())), \"The DataFrame `df_away` must have exactly one row for each away country.\"\n",
    "assert(\"away_score\" in df_away), \"The DataFrame `df_away` must have a `away_score` column.\"\n",
    "assert(\"away_team\" in df_away), \"The DataFrame `df_away` must have a `away_team` column (not as an index). Make sure to use .reset_index()!\"\n",
    "assert( len(df_away.columns) == 2 ), \"Your DataFrame `df_away` must have exactly two columns.\"\n",
    "_ = df_away.head(1)\n",
    "if \"away_team\" in _: __ = _[\"away_team\"].values[0]\n",
    "else: __ = _.index.values[0]\n",
    "assert( df[ df[\"away_team\"] == __ ][\"away_score\"].sum() == _[\"away_score\"].values[0] ), f'The value of `away_score` in the DataFrame `df_away` must be the sum of all `away_score` records for each country. In your `df_away`, \"{__}\" has the value {_[\"away_score\"].values[0]} but \"{__}\" has scored {df[ df[\"away_team\"] == __ ][\"away_score\"].sum()} goals in the full dataset `df`.'\n",
    "_ = df_away[ df_away[\"away_score\"] == df_away[\"away_score\"].max() ]\n",
    "if \"away_team\" in _: __ = _[\"away_team\"].values[0]\n",
    "else: __ = _.index.values[0]\n",
    "assert( df[ df[\"away_team\"] == __ ][\"away_score\"].sum() == df_away[\"away_score\"].max() ), f'The value of `away_score` in the DataFrame `df_away` must be the sum of all `away_score` records for each country. In your `df_away`, \"{__}\" has the value {_[\"away_score\"].values[0]} but \"{__}\" has scored {df[ df[\"away_team\"] == __ ][\"away_score\"].sum()} goals in the full dataset `df`.'\n",
    "print(f\"{tada} All Tests Passed! {tada}\")"
   ]
  },
  {
   "cell_type": "markdown",
   "execution_count": 0,
   "metadata": {},
   "outputs": [],
   "source": [
    "### Part 2.3: Setting Up the DataFrames To Merge\n",
    "\n",
    "To merge two DataFrames together, the simplest technique is to **set up two DataFrames where one column has an identical name in both DataFrames**.  Currently, in your DataFrame `df_home`, each country is in the column name `home_team`; in `df_away`, each country is in `away_team`.\n",
    "\n",
    "To rename a column in a DataFrame, the `rename()` function allows you to specify the old and new column names in a Python dictionary.  Specifically, the syntax to rename the `home_team` column to `team` is:\n",
    "> ```py\n",
    "> df_home = df_home.rename(columns = {\"home_team\": \"team\"})\n",
    "> #                                    ^^^^^^^^^    ^^^^\n",
    "> #                           (old column name)^    ^(new column name)\n",
    "> ```\n",
    "\n",
    "Using `df_home.rename(...)`, rename your `home_team` column to `team`:"
   ]
  },
  {
   "cell_type": "code",
   "execution_count": 0,
   "metadata": {},
   "outputs": [],
   "source": [
    "# Rename the `home_team` column to `team`:\n",
    "...\n",
    "\n",
    "df_home"
   ]
  },
  {
   "cell_type": "markdown",
   "execution_count": 0,
   "metadata": {},
   "outputs": [],
   "source": [
    "Repeat the process for `df_away`, making sure `away_team` is renamed to `team`: "
   ]
  },
  {
   "cell_type": "code",
   "execution_count": 0,
   "metadata": {},
   "outputs": [],
   "source": [
    "# Rename the `away_team` column to `team`:\n",
    "...\n",
    "\n",
    "df_away"
   ]
  },
  {
   "cell_type": "markdown",
   "execution_count": 0,
   "metadata": {},
   "outputs": [],
   "source": [
    "### Part 2.4: Merge Two DataFrames Into One!\n",
    "\n",
    "You're all set up to merge two DataFrames together!  You have two DataFrames which have **exactly one column** with an identical name -- both `df_home` and `df_away` have the column named `team`.\n",
    "\n",
    "Read the DISCOVERY guide [\"Combining DataFrames by Merging\"](https://discovery.cs.illinois.edu/guides/Combining-DataFrames/Combining-DataFrames-by-Merging/) to learn how to merge two DataFrames together using `pd.merge` and create a merged DataFrame called `df_scores`.\n",
    "- A few countries have never played a home game, and a few other countries have never played an away game!  This means that some teams do not exist in both `df_home` and `df_away`!\n",
    "- Make certain to **keep all unmatched rows** by reading the \"Keeping Unmatched Rows\" section in the guide linked above!"
   ]
  },
  {
   "cell_type": "code",
   "execution_count": 0,
   "metadata": {},
   "outputs": [],
   "source": [
    "df_scores = ...\n",
    "df_scores"
   ]
  },
  {
   "cell_type": "code",
   "execution_count": 0,
   "metadata": {},
   "outputs": [],
   "source": [
    "### TEST CASE for Part 2.4: Merge Two DataFrames Into One\n",
    "tada = \"\\N{PARTY POPPER}\"\n",
    "assert(\"team\" in df_home), \"Your DataFrame `df_home` must contain a column named \\\"team\\\".\"\n",
    "assert(\"team\" in df_away), \"Your DataFrame `df_away` must contain a column named \\\"team\\\".\"\n",
    "assert(\"df_scores\" in vars()), \"You must define a Python variable `df_scores`\"\n",
    "for col in [\"team\", \"home_score\", \"away_score\"]: assert(col in df_scores), f\"Your DataFrame `df_scores` must have the column named {col}.\"\n",
    "assert(len(df_scores) == len(set( df_home[\"team\"].unique().tolist() + df_away[\"team\"].unique().tolist() ))), \"Your merged DataFrame must have every team who has played ANY games (make sure to \\\"Keep Unmatched Rows\\\", which is a section in the linked guide)\"\n",
    "print(f\"{tada} All Tests Passed! {tada}\")"
   ]
  },
  {
   "cell_type": "markdown",
   "execution_count": 0,
   "metadata": {},
   "outputs": [],
   "source": [
    "### Part 2.5: Fixing Missing Data\n",
    "\n",
    "When merging your DataFrames using an \"outer\" join, some teams will have only played home games while other teams will have only played away games.  Let's look at cells that do not have either a `home_score` or an `away_score`:"
   ]
  },
  {
   "cell_type": "code",
   "execution_count": 0,
   "metadata": {},
   "outputs": [],
   "source": [
    "# Shows all rows with at least one missing value:\n",
    "df_scores[ ~df_scores.index.isin(df_scores.dropna().index.values) ]"
   ]
  },
  {
   "cell_type": "markdown",
   "execution_count": 0,
   "metadata": {},
   "outputs": [],
   "source": [
    "As a data scientist, we have to make a decision each time we see missing data on how to best handle missing data in each dataset:\n",
    "1. Many times, missing data occurs when an observation is not collected and should be left as missing data.  Python will skip over missing data when calculating statistics like the `mean()`, `sum()`, `std()`, etc.\n",
    "2. Other times, missing data indicates that there is no data.  In cases where we're certain of this, we can replace the missing `NaN` markers with the correct numeric value indicating there's no data (ex: `0`).\n",
    "1. Finally, some times missing data indicates a problem with the data, and the data can be excluded from the analysis as an incomplete record.\n",
    "\n",
    "In our example, we know missing data appears in `df_scores` when a team has never played either a home or an away game.  The correct value for these cells is that missing cells indicate that zero points have been scored.  The DataFrame function `fillna(...)` will fill all rows with missing data with the `value` you specify.  For example:\n",
    "\n",
    ">```py\n",
    "> # Fills all missing values in the DataFrame `df` with the value 100.\n",
    "> df = df.fillna(100)\n",
    "> df\n",
    ">```\n",
    "\n",
    "Update your `df_scores` DataFrame and fill in all missing values with the number `0` to indicate that they have scored zero points in either home or away games:"
   ]
  },
  {
   "cell_type": "code",
   "execution_count": 0,
   "metadata": {},
   "outputs": [],
   "source": [
    "# Update `df_scores` DataFrame to fill in all missing values:\n",
    "..."
   ]
  },
  {
   "cell_type": "code",
   "execution_count": 0,
   "metadata": {},
   "outputs": [],
   "source": [
    "### TEST CASE for Part 2.5: Fixing Missing Data\n",
    "tada = \"\\N{PARTY POPPER}\"\n",
    "assert(len(df_scores[ ~df_scores.index.isin(df_scores.dropna().index.values) ]) == 0), \"You must have zero rows in your DataFrame `df_scores` with missing data values (NaN).\"\n",
    "assert(len(df_scores) == len(set( df_home[\"team\"].unique().tolist() + df_away[\"team\"].unique().tolist() ))), \"Your merged DataFrame must have every team who has played any games (are you sure you're doing an outer join?)\"\n",
    "assert(len(df_scores[ (df_scores.home_score == 0) ]) > 10), \"Your must replace your missing rows with the score of 0.\"\n",
    "assert(len(df_scores[ (df_scores.away_score == 0) ]) > 10), \"Your must replace your missing rows with the score of 0.\"\n",
    "print(f\"{tada} All Tests Passed! {tada}\")"
   ]
  },
  {
   "cell_type": "markdown",
   "execution_count": 0,
   "metadata": {},
   "outputs": [],
   "source": [
    "### Part 2.6: Creating a Data Visualization\n",
    "\n",
    "Let's discover what country scored the most goals across across the 45,000 FIFA matches!  First, we'll want to organize the dataset by the total number of goals.  Add a new column to your DataFrame `df_scores` called `total_score` that adds up the `home_score` and `away_score` for each team:"
   ]
  },
  {
   "cell_type": "code",
   "execution_count": 0,
   "metadata": {},
   "outputs": [],
   "source": [
    "df_scores[\"total_score\"] = ...\n",
    "df_scores"
   ]
  },
  {
   "cell_type": "markdown",
   "execution_count": 0,
   "metadata": {},
   "outputs": [],
   "source": [
    "Using `df_scores`, create a **stacked bar chart that stacks the values of home_score and away_score on top of each other.**  To do this, use `df_scores.plot.bar(...)` with the following function options:\n",
    "- The parameter `x` sets the column of data to use for the x-axis data; set `x` to be the column name that contains the name of each country,\n",
    "- The parameter `y` sets the **list** of columns to use for y-axis data; set `y` equal to the **list** `[\"home_score\", \"away_score\"]`.\n",
    "- The parameter `stacked` must be set to `True` to indicate a **stacked bar chart** (`stacked=True`).\n",
    "- The parameter `title` set to an informative title (ex: `\"Total Points Scored in FIFA International Matches\"`), or similar.\n",
    "\n",
    "In the cell below, set your visualization equal to `ax` so we can also access it in the test case:"
   ]
  },
  {
   "cell_type": "code",
   "execution_count": 0,
   "metadata": {},
   "outputs": [],
   "source": [
    "ax = ...\n",
    "ax"
   ]
  },
  {
   "cell_type": "markdown",
   "execution_count": 0,
   "metadata": {},
   "outputs": [],
   "source": [
    "#### Visualization Updates\n",
    "\n",
    "That's a lot of teams!!\n",
    "\n",
    "Modify your code above to display only the top 15 teams based on the value in `total_score`.  This can be done by adding `nlargest(15,\"total_score\")` into your line of visualization code above.  For example:\n",
    "\n",
    "> ```py\n",
    "> # Full Dataset\n",
    "> df_scores.plot.bar( ... )\n",
    ">\n",
    "> # Largest Rows\n",
    "> df_scores.nlargest(15, \"total_score\").plot.bar( ... )\n",
    "> #         ^^^^^^^^^^^^^^^^^^^^^^^^^^^\n",
    "> ```\n",
    "\n",
    "Update your visualization in your code cell above! :)"
   ]
  },
  {
   "cell_type": "code",
   "execution_count": 0,
   "metadata": {},
   "outputs": [],
   "source": [
    "### Part 2.6: Creating a Data Visualization\n",
    "tada = \"\\N{PARTY POPPER}\"\n",
    "assert( \"total_score\" in df_scores ), \"Your DataFrame `df_scores` must have the column `total_scores`.\"\n",
    "assert(len(ax.get_xticklabels()) == 15), \"You must have exactly 15 teams in your data visualization.\"\n",
    "assert(ax.get_xticklabels()[0].get_text() == df_scores.nlargest(1, \"total_score\")[\"team\"].values[0]), \"The first team on your visualization must be the team that has scored the highest number of total points.\"\n",
    "assert( ax.get_yticks()[-1] > 2000 ), \"You must create a stacked bar chart. It appears your data is incorrect, or not a stacked bar chart.\"\n",
    "assert(len(ax.title.get_text()) > 10), \"You must provide a descriptive title for your graph.\"\n",
    "print(f\"{tada} All Tests Passed! {tada}\")"
   ]
  },
  {
   "cell_type": "markdown",
   "execution_count": 0,
   "metadata": {},
   "outputs": [],
   "source": [
    "### Analysis\n",
    "\n",
    "With this data visualization, there's several interesting questions we can ask answer about over 45,000 FIFA games:\n",
    "- What team scored the most points overall?\n",
    "- Did that team also score the most points at home, or did a different team do better in their home games?\n",
    "- Most teams seem to score more points at home than away. Is there any team that scored more points at away games than home games?"
   ]
  },
  {
   "attachments": {},
   "cell_type": "markdown",
   "execution_count": 0,
   "metadata": {},
   "outputs": [],
   "source": [
    "<hr style=\"color: #DD3403;\">"
   ]
  },
  {
   "attachments": {},
   "cell_type": "markdown",
   "execution_count": 0,
   "metadata": {},
   "outputs": [],
   "source": [
    "## Part 3: FIFA World Cup\n",
    "\n",
    "Returning to the full dataset `df` that contains one observation for each match played, the `tournament` column in `df` provides the tournament where the game was played.\n",
    "\n",
    "World Cup games were the only international matches played on Nov. 30, 2022 (`2022-11-30`).  Find the `tournament` string used for games during the World Cup by looking at games with that `date` during the World Cup:"
   ]
  },
  {
   "cell_type": "code",
   "execution_count": 0,
   "metadata": {},
   "outputs": [],
   "source": [
    "..."
   ]
  },
  {
   "attachments": {},
   "cell_type": "markdown",
   "execution_count": 0,
   "metadata": {},
   "outputs": [],
   "source": [
    "### Part 3.1: Finding World Cup Games\n",
    "\n",
    "Take note of the label used for World Cup games in this dataset. Now knowing how the World Cup games are labeled, create a new DataFrame `df_worldcup` that contains all World Cup games played in the dataset:"
   ]
  },
  {
   "cell_type": "code",
   "execution_count": 0,
   "metadata": {},
   "outputs": [],
   "source": [
    "df_worldcup = ...\n",
    "df_worldcup"
   ]
  },
  {
   "cell_type": "code",
   "execution_count": 0,
   "metadata": {},
   "outputs": [],
   "source": [
    "### TEST CASE for Part 3.1: World Cup Games\n",
    "tada = \"\\N{PARTY POPPER}\"\n",
    "assert(\"df_worldcup\" in vars()), \"Make sure your dataframe with only World Cup games is named `df_worldcup`.\"\n",
    "assert(len(df_worldcup) > 960), \"Ensure that `df_worldcup` only has rows that represent World Cup games.\"\n",
    "assert(len(df_worldcup[\"tournament\"].unique()) == 1), \"Ensure that `df_worldcup` only has rows that represent World Cup games.\"\n",
    "assert(\"World Cup\" in df_worldcup[\"tournament\"].unique()[0]), \"Ensure that `df_worldcup` only has rows that represent World Cup games.\"\n",
    "print(f\"{tada} All Tests Passed! {tada}\") "
   ]
  },
  {
   "cell_type": "markdown",
   "execution_count": 0,
   "metadata": {},
   "outputs": [],
   "source": [
    "### Part 3.2: Grouping Data by Year\n",
    "\n",
    "Create a summary of all the World Cup games that calculates the **average `home_score` and `away_score` each year** and store this DataFrame in a variable called `df_worldcup_years`.\n",
    "\n",
    "*(See the DISCOVERY lecture [\"Grouping Data in Python\"](https://discovery.cs.illinois.edu/learn/Exploratory-Data-Analysis/Grouping-Data-in-Python/) for a refresher on how to group data.)*"
   ]
  },
  {
   "cell_type": "code",
   "execution_count": 0,
   "metadata": {},
   "outputs": [],
   "source": [
    "df_worldcup_years = ...\n",
    "df_worldcup_years"
   ]
  },
  {
   "cell_type": "code",
   "execution_count": 0,
   "metadata": {},
   "outputs": [],
   "source": [
    "### Part 3.2: Grouping Data by Year\n",
    "tada = \"\\N{PARTY POPPER}\"\n",
    "assert(\"df_worldcup_years\" in vars()), \"You must define a Python variable named `df_worldcup_years`.\"\n",
    "for year in df_worldcup_years[\"year\"].unique(): assert((year + 2) % 4 == 0), f\"The `year` {year} is found in your DataFrame `df_worldcup_years` but no World Cup was played in {year}.\"\n",
    "assert(df_worldcup_years[ df_worldcup_years.year == 1982 ][\"home_score\"].values[0] == df[ (df.year == 1982) & (df.tournament.str.len() == 14) & (df.tournament.str.contains(\"World Cup\")) ][\"home_score\"].mean()), \"Your summary must contain the average of the home_score and away_score among all world cup games each year.  Your data has the incorrect mean values.  (Are you sure you found the average?)\"\n",
    "print(f\"{tada} All Tests Passed! {tada}\")      "
   ]
  },
  {
   "cell_type": "markdown",
   "execution_count": 0,
   "metadata": {},
   "outputs": [],
   "source": [
    "### Part 3.3: Creating a Multi-Line Data Visualization\n",
    "\n",
    "Using `df_worldcup_years`, create a **multi-line line chart that graphs both the `home_score` and `away_score` in a single line chart**.  To do this, use `df_worldcup_years.plot.line(...)`.  This is very similar to having two different variables visualized using a bar chart.  Create a graph plot using the following options:\n",
    "- The parameter `x` sets the column of data to use for the x-axis data; set `x` to be the column name that contains the year,\n",
    "- The parameter `y` sets the **list** of columns to use for y-axis data; set `y` equal to the **list** `[\"home_score\", \"away_score\"]`.\n",
    "- The parameter `title` set to an informative title (ex: `\"Average Points Scored in All World Cup Games Each Tournament\"`), or similar.\n",
    "\n",
    "In the cell below, set your visualization equal to `ax` again so we can access it in the test case:"
   ]
  },
  {
   "cell_type": "code",
   "execution_count": 0,
   "metadata": {},
   "outputs": [],
   "source": [
    "ax = ...\n",
    "ax"
   ]
  },
  {
   "cell_type": "code",
   "execution_count": 0,
   "metadata": {},
   "outputs": [],
   "source": [
    "### Part 3.3: Creating a Multi-Line Data Visualization\n",
    "tada = \"\\N{PARTY POPPER}\"\n",
    "assert(ax.get_yticks()[-1] < 4), \"You must NOT have a stacked line chart. It appears your data is your visualization is incorrect.\"\n",
    "assert(len(ax.legend().get_texts()) == 2), \"Your legend must contain two fields (`home_score` and `away_score`).\"\n",
    "assert(len(ax.title.get_text()) > 10), \"You must provide a descriptive title for your graph.\"\n",
    "print(f\"{tada} All Tests Passed! {tada}\")\n"
   ]
  },
  {
   "cell_type": "markdown",
   "execution_count": 0,
   "metadata": {},
   "outputs": [],
   "source": [
    "### Analysis\n",
    "\n",
    "In this visualization, you learned how to plot multiple variables on a single data visualization!  In general, what is the trend of points scored per game in World Cup matches?  (Are matches played today scoring more points, on average, than 80 years ago?)\n",
    "\n",
    "*Note that almost every World Cup match is a \"Neutral\" site game, so the \"home_score\" and \"away_score\" do not have much context when looking only at World Cup matches.*"
   ]
  },
  {
   "cell_type": "markdown",
   "execution_count": 0,
   "metadata": {},
   "outputs": [],
   "source": [
    "<hr style=\"color: #DD3403;\">"
   ]
  },
  {
   "attachments": {},
   "cell_type": "markdown",
   "execution_count": 0,
   "metadata": {},
   "outputs": [],
   "source": [
    "## Submission\n",
    "\n",
    "You're almost done!  All you need to do is to commit your lab to GitHub and run the GitHub Actions Grader:\n",
    "\n",
    "1.  ⚠️ **Make certain to save your work.** ⚠️ To do this, go to **File => Save All**\n",
    "\n",
    "2.  After you have saved, exit this notebook and return to https://discovery.cs.illinois.edu/microproject/fifa-world-cup/ and complete the section **\"Commit and Grade Your Notebook\"**.\n",
    "\n",
    "3. If you see a 100% grade result on your GitHub Action, you've completed this MicroProject! 🎉"
   ]
  }
 ],
 "metadata": {
  "kernelspec": {
   "display_name": "Python 3",
   "language": "python",
   "name": "python3"
  },
  "language_info": {
   "codemirror_mode": {
    "name": "ipython",
    "version": 3
   },
   "file_extension": ".py",
   "mimetype": "text/x-python",
   "name": "python",
   "nbconvert_exporter": "python",
   "pygments_lexer": "ipython3",
   "version": "3.11.9"
  }
 },
 "nbformat": 4,
 "nbformat_minor": 2
}
